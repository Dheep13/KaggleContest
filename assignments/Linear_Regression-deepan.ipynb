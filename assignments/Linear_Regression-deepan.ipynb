{
  "cells": [
    {
      "cell_type": "code",
      "execution_count": null,
      "metadata": {
        "colab": {
          "base_uri": "https://localhost:8080/",
          "height": 108
        },
        "id": "IazwmPqZTKUA",
        "outputId": "f87024ad-495f-473c-e87c-3256ade2d985"
      },
      "outputs": [],
      "source": [
        "from google.colab import files\n",
        "\n",
        "# This will prompt you to select the kaggle.json file\n",
        "files.upload()"
      ]
    },
    {
      "cell_type": "code",
      "execution_count": null,
      "metadata": {
        "id": "TH_OZXHPTa9f"
      },
      "outputs": [],
      "source": [
        "!mkdir -p ~/.kaggle\n",
        "!cp kaggle.json ~/.kaggle/\n",
        "!chmod 600 ~/.kaggle/kaggle.json"
      ]
    },
    {
      "cell_type": "code",
      "execution_count": null,
      "metadata": {
        "colab": {
          "base_uri": "https://localhost:8080/"
        },
        "id": "joHKqjyjTfBP",
        "outputId": "fb09b753-0e97-4d07-b8af-65c661bd1eef"
      },
      "outputs": [],
      "source": [
        "!kaggle competitions download -c copy-of-linear-regression-competition-mia"
      ]
    },
    {
      "cell_type": "code",
      "execution_count": null,
      "metadata": {
        "colab": {
          "base_uri": "https://localhost:8080/"
        },
        "id": "tRfIEMAQSzYm",
        "outputId": "c8fbc5e4-7656-45c7-ec94-727fd3ed7345"
      },
      "outputs": [],
      "source": [
        "from google.colab import drive\n",
        "drive.mount('/content/drive')\n"
      ]
    },
    {
      "cell_type": "code",
      "execution_count": null,
      "metadata": {
        "colab": {
          "base_uri": "https://localhost:8080/"
        },
        "id": "LRJpvFRJTnYy",
        "outputId": "023acc45-3a37-43ed-fccf-0bd67bac338e"
      },
      "outputs": [],
      "source": [
        "!unzip '/content/copy-of-linear-regression-competition-mia.zip' -d '/content/dataset'"
      ]
    },
    {
      "cell_type": "code",
      "execution_count": null,
      "metadata": {
        "id": "1Mmsyh77TCjp"
      },
      "outputs": [],
      "source": [
        "submission_path = '/content/drive/My Drive/KaggleSubmissions/submission_linear_regression.csv'\n"
      ]
    },
    {
      "cell_type": "code",
      "execution_count": null,
      "metadata": {
        "colab": {
          "base_uri": "https://localhost:8080/"
        },
        "id": "5r_0rWi0TuiT",
        "outputId": "a70d5c6b-acb8-40bb-e152-90a6a2858e4d"
      },
      "outputs": [],
      "source": [
        "import pandas as pd\n",
        "\n",
        "# Path to your dataset stored in Google Drive\n",
        "train_data = '/content/dataset/train.csv'\n",
        "test_data = '/content/dataset/test.csv'\n",
        "\n",
        "\n",
        "\n",
        "train_df = pd.read_csv(train_data)\n",
        "test_df = pd.read_csv(test_data)\n",
        "\n",
        "print(train_df.columns)\n"
      ]
    },
    {
      "cell_type": "code",
      "execution_count": null,
      "metadata": {
        "colab": {
          "base_uri": "https://localhost:8080/"
        },
        "id": "ZMfNvifpVQqc",
        "outputId": "938ebb75-a2a5-4c4f-c7fd-a22f18846f85"
      },
      "outputs": [],
      "source": [
        "import pandas as pd\n",
        "import numpy as np\n",
        "from sklearn.model_selection import train_test_split, cross_val_score\n",
        "from sklearn.linear_model import LinearRegression\n",
        "from sklearn.metrics import mean_absolute_error, mean_squared_error, make_scorer\n",
        "from sklearn.preprocessing import StandardScaler\n",
        "\n",
        "# Load your data\n",
        "train_data_path = '/content/dataset/train.csv'\n",
        "test_data_path = '/content/dataset/test.csv'\n",
        "train_data = pd.read_csv(train_data_path)\n",
        "test_data = pd.read_csv(test_data_path)\n",
        "\n",
        "# Data Preprocessing\n",
        "categorical_vars = ['source', 'destination', 'cab_type', 'product_id', 'name', 'short_summary', 'long_summary', 'icon']\n",
        "\n",
        "\n",
        "\n",
        "# Apply get_dummies() for categorical variables\n",
        "train_data_encoded = pd.get_dummies(train_data, columns=categorical_vars, drop_first=True)\n",
        "test_data_encoded = pd.get_dummies(test_data, columns=categorical_vars, drop_first=True)\n",
        "\n",
        "# Ensure 'datetime' is converted properly and retained for feature engineering\n",
        "train_data_encoded['datetime'] = pd.to_datetime(train_data_encoded['datetime'], errors='coerce')\n",
        "test_data_encoded['datetime'] = pd.to_datetime(test_data_encoded['datetime'], errors='coerce')\n",
        "\n",
        "# Extract datetime features\n",
        "for df in [train_data_encoded, test_data_encoded]:\n",
        "    df['hour'] = df['datetime'].dt.hour\n",
        "    df['day_of_week'] = df['datetime'].dt.dayofweek\n",
        "    df['month'] = df['datetime'].dt.month\n",
        "\n",
        "# Drop the original 'datetime' column after extracting features\n",
        "train_data_encoded.drop('datetime', axis=1, inplace=True, errors='ignore')\n",
        "test_data_encoded.drop('datetime', axis=1, inplace=True, errors='ignore')\n",
        "\n",
        "# Align train and test data to have the same columns, filling missing with 0s\n",
        "common_columns = [col for col in train_data_encoded.columns if col in test_data_encoded.columns and col not in ['id', 'timezone', 'price']]\n",
        "X = train_data_encoded[common_columns]\n",
        "y = train_data['price']\n",
        "X_test_aligned = test_data_encoded[common_columns]\n",
        "\n",
        "# Model Training and Evaluation\n",
        "model = LinearRegression()\n",
        "\n",
        "# Cross-validation with 5 folds\n",
        "rmse_scorer = make_scorer(mean_squared_error, squared=False)  # RMSE scorer\n",
        "cross_val_scores = cross_val_score(model, X, y, cv=5, scoring=rmse_scorer)\n",
        "\n",
        "print(f'RMSE scores across the folds: {cross_val_scores}')\n",
        "print(f'Mean RMSE score: {np.mean(cross_val_scores)}')\n",
        "\n",
        "model.fit(X, y)\n",
        "\n",
        "# Kaggle Submission\n",
        "test_predictions = model.predict(X_test_aligned)\n",
        "\n",
        "submission_df = pd.DataFrame({\n",
        "    'price': np.round(test_predictions, 1),\n",
        "    'id': test_data.iloc[:, 0]\n",
        "})\n",
        "submission_df.to_csv(submission_path, index=False)\n"
      ]
    }
  ],
  "metadata": {
    "accelerator": "GPU",
    "colab": {
      "gpuType": "V100",
      "machine_shape": "hm",
      "provenance": []
    },
    "kernelspec": {
      "display_name": "Python 3",
      "name": "python3"
    },
    "language_info": {
      "name": "python"
    }
  },
  "nbformat": 4,
  "nbformat_minor": 0
}
