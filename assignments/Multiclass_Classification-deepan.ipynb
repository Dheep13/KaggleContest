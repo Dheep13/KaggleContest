{
  "cells": [
    {
      "cell_type": "code",
      "execution_count": null,
      "metadata": {
        "colab": {
          "base_uri": "https://localhost:8080/",
          "height": 90
        },
        "id": "nrjGAPgMrOMa",
        "outputId": "fdb5d008-3e25-4956-b43d-edd9fddc2269"
      },
      "outputs": [],
      "source": [
        "from google.colab import files\n",
        "\n",
        "# This will prompt you to select the kaggle.json file\n",
        "files.upload()"
      ]
    },
    {
      "cell_type": "code",
      "execution_count": null,
      "metadata": {
        "id": "Kj_662cFrUq8"
      },
      "outputs": [],
      "source": [
        "!mkdir -p ~/.kaggle\n",
        "!cp kaggle.json ~/.kaggle/\n",
        "!chmod 600 ~/.kaggle/kaggle.json"
      ]
    },
    {
      "cell_type": "code",
      "execution_count": null,
      "metadata": {
        "colab": {
          "base_uri": "https://localhost:8080/"
        },
        "id": "DR0Z0S2vrtWO",
        "outputId": "df7072e5-a8cf-42a3-a10f-0c97fbbdc0d0"
      },
      "outputs": [],
      "source": [
        "!kaggle competitions download -c multiclass-classification-jaro"
      ]
    },
    {
      "cell_type": "code",
      "execution_count": null,
      "metadata": {
        "colab": {
          "base_uri": "https://localhost:8080/"
        },
        "id": "KMG8fM9Xr2Gf",
        "outputId": "da38915d-32bd-4753-911b-fef8e8db8438"
      },
      "outputs": [],
      "source": [
        "from google.colab import drive\n",
        "drive.mount('/content/drive')"
      ]
    },
    {
      "cell_type": "code",
      "execution_count": null,
      "metadata": {
        "colab": {
          "base_uri": "https://localhost:8080/"
        },
        "id": "XmRE3g7tsUg5",
        "outputId": "b05a410b-74c3-4902-8ef7-7713a8efdf01"
      },
      "outputs": [],
      "source": [
        "!unzip '/content/multiclass-classification-jaro.zip' -d '/content/dataset'"
      ]
    },
    {
      "cell_type": "code",
      "execution_count": null,
      "metadata": {
        "colab": {
          "base_uri": "https://localhost:8080/"
        },
        "id": "j7yarr4XsDop",
        "outputId": "d310a6b2-7f13-4080-af63-cf8877d88fd0"
      },
      "outputs": [],
      "source": [
        "import pandas as pd\n",
        "from sklearn.model_selection import train_test_split, GridSearchCV\n",
        "from sklearn.ensemble import RandomForestClassifier\n",
        "from sklearn.preprocessing import LabelEncoder, StandardScaler\n",
        "from sklearn.pipeline import Pipeline\n",
        "from sklearn.compose import ColumnTransformer\n",
        "from sklearn.metrics import make_scorer, f1_score\n",
        "\n",
        "# Load your dataset\n",
        "train_df = pd.read_csv('/content/dataset/train.csv')\n",
        "\n",
        "# Feature Engineering: Create a new feature as an example\n",
        "train_df['total_acidity'] = train_df['fixed acidity'] + train_df['volatile acidity']\n",
        "\n",
        "# Encode the 'wine type' column\n",
        "le = LabelEncoder()\n",
        "train_df['wine type'] = le.fit_transform(train_df['wine type'])\n",
        "\n",
        "# Preparing the dataset\n",
        "X = train_df.drop(['ID', 'quality'], axis=1)\n",
        "y = train_df['quality']\n",
        "\n",
        "\n",
        "# Data preprocessing\n",
        "numerical_features = X.select_dtypes(include=['float64', 'int']).columns.tolist()\n",
        "categorical_features = ['wine type']\n",
        "\n",
        "preprocessor = ColumnTransformer(transformers=[\n",
        "    ('num', StandardScaler(), numerical_features),\n",
        "    ('cat', 'passthrough', categorical_features)\n",
        "])\n",
        "\n",
        "# Creating a pipeline\n",
        "pipeline = Pipeline(steps=[\n",
        "    ('preprocessor', preprocessor),\n",
        "    ('classifier', RandomForestClassifier(random_state=42))\n",
        "])\n",
        "\n",
        "# Hyperparameter tuning\n",
        "param_grid = {\n",
        "    'classifier__n_estimators': [100, 200],\n",
        "    'classifier__max_depth': [None, 10, 20],\n",
        "    'classifier__min_samples_split': [2, 5]\n",
        "}\n",
        "\n",
        "# Using F1 score as the metric for scoring\n",
        "f1_scorer = make_scorer(f1_score, average='weighted')\n",
        "\n",
        "grid_search = GridSearchCV(pipeline, param_grid, cv=5, scoring=f1_scorer, verbose=2, n_jobs=-1)\n",
        "\n",
        "grid_search.fit(X, y)\n",
        "\n",
        "print(\"Best parameters found: \", grid_search.best_params_)\n",
        "print(\"Best CV F1 score: \", grid_search.best_score_)\n"
      ]
    },
    {
      "cell_type": "code",
      "execution_count": null,
      "metadata": {
        "colab": {
          "base_uri": "https://localhost:8080/",
          "height": 35
        },
        "id": "_GKrEfLqtnk2",
        "outputId": "9188b46e-f7ad-4aa9-98f5-b7fb5c20f87a"
      },
      "outputs": [],
      "source": [
        "import pandas as pd\n",
        "\n",
        "\n",
        "test_df = pd.read_csv('/content/dataset/test.csv')\n",
        "\n",
        "# Apply the same feature engineering to the test set\n",
        "test_df['total_acidity'] = test_df['fixed acidity'] + test_df['volatile acidity']\n",
        "test_df['wine type'] = le.transform(test_df['wine type'])  # Use the LabelEncoder fitted on the training set\n",
        "\n",
        "# Prepare the test data (drop ID for prediction)\n",
        "X_test = test_df.drop('ID', axis=1)\n",
        "\n",
        "# Make predictions using the best estimator from the grid search\n",
        "predictions = grid_search.best_estimator_.predict(X_test)\n",
        "\n",
        "# Create the submission DataFrame\n",
        "submission_df = pd.DataFrame({'ID': test_df['ID'], 'quality': predictions})\n",
        "\n",
        "# Save the submission file\n",
        "submission_file_path = '/content/dataset/wine_quality_submission.csv'\n",
        "submission_df.to_csv(submission_file_path, index=False)\n",
        "\n",
        "submission_file_path\n"
      ]
    },
    {
      "cell_type": "code",
      "execution_count": null,
      "metadata": {
        "id": "Lmgbg6KlvKdG"
      },
      "outputs": [],
      "source": [
        "!mkdir -p \"/content/drive/My Drive/KaggleSubmissions\"\n"
      ]
    },
    {
      "cell_type": "code",
      "execution_count": null,
      "metadata": {
        "id": "P1IjoGS-uO_1"
      },
      "outputs": [],
      "source": [
        "!cp /content/dataset/wine_quality_submission.csv \"/content/drive/My Drive/KaggleSubmissions\"\n"
      ]
    }
  ],
  "metadata": {
    "colab": {
      "provenance": []
    },
    "kernelspec": {
      "display_name": "Python 3",
      "name": "python3"
    },
    "language_info": {
      "name": "python"
    }
  },
  "nbformat": 4,
  "nbformat_minor": 0
}
