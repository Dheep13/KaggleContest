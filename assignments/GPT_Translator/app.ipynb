{
 "cells": [
  {
   "cell_type": "code",
   "execution_count": 9,
   "metadata": {},
   "outputs": [
    {
     "name": "stdout",
     "output_type": "stream",
     "text": [
      "English: Hello, how are you? It's a beautiful day today.\n",
      "Japanese: こんにちは、元気ですか？今日はとても美しい日です。\n",
      "Pronunciation (Romaji): Konnichiwa, genki desu ka? Kyou wa totemo utsukushii hi desu.\n"
     ]
    }
   ],
   "source": [
    "from openai import OpenAI\n",
    "from dotenv import load_dotenv\n",
    "import os\n",
    "\n",
    "# Load environment variables from .env file\n",
    "load_dotenv()\n",
    "\n",
    "# Initialize the client with the API key from .env\n",
    "client = OpenAI(api_key=os.getenv(\"OPENAI_API_KEY\"))\n",
    "\n",
    "def translate_to_japanese_with_pronunciation(text):\n",
    "    prompt = f\"\"\"Translate the following English text to Japanese and provide its pronunciation in romaji:\n",
    "English: {text}\n",
    "Response format:\n",
    "Japanese: [Japanese translation]\n",
    "Romaji: [Pronunciation in romaji]\"\"\"\n",
    "    \n",
    "    response = client.chat.completions.create(\n",
    "        model=\"gpt-3.5-turbo\",\n",
    "        messages=[\n",
    "            {\"role\": \"system\", \"content\": \"You are a helpful assistant that translates English to Japanese and provides pronunciation in romaji.\"},\n",
    "            {\"role\": \"user\", \"content\": prompt}\n",
    "        ],\n",
    "        max_tokens=200,\n",
    "        n=1,\n",
    "        stop=None,\n",
    "        temperature=0.3,\n",
    "    )\n",
    "\n",
    "    result = response.choices[0].message.content.strip()\n",
    "    \n",
    "    # Splitting the result into Japanese and Romaji\n",
    "    japanese = \"\"\n",
    "    romaji = \"\"\n",
    "    for line in result.split('\\n'):\n",
    "        if line.startswith(\"Japanese:\"):\n",
    "            japanese = line.split(\"Japanese:\")[1].strip()\n",
    "        elif line.startswith(\"Romaji:\"):\n",
    "            romaji = line.split(\"Romaji:\")[1].strip()\n",
    "    \n",
    "    return japanese, romaji\n",
    "\n",
    "# Example usage\n",
    "english_text = \"Hello, how are you? It's a beautiful day today.\"\n",
    "japanese, romaji = translate_to_japanese_with_pronunciation(english_text)\n",
    "print(f\"English: {english_text}\")\n",
    "print(f\"Japanese: {japanese}\")\n",
    "print(f\"Pronunciation (Romaji): {romaji}\")"
   ]
  }
 ],
 "metadata": {
  "kernelspec": {
   "display_name": "Python 3",
   "language": "python",
   "name": "python3"
  },
  "language_info": {
   "codemirror_mode": {
    "name": "ipython",
    "version": 3
   },
   "file_extension": ".py",
   "mimetype": "text/x-python",
   "name": "python",
   "nbconvert_exporter": "python",
   "pygments_lexer": "ipython3",
   "version": "3.12.3"
  }
 },
 "nbformat": 4,
 "nbformat_minor": 2
}
